{
 "cells": [
  {
   "cell_type": "code",
   "execution_count": 1,
   "metadata": {},
   "outputs": [],
   "source": [
    "#row bottom-sm\n",
    "from selenium import webdriver \n",
    "from bs4 import BeautifulSoup\n",
    "import pandas as pd\n",
    "from tqdm import tqdm"
   ]
  },
  {
   "cell_type": "code",
   "execution_count": 2,
   "metadata": {},
   "outputs": [],
   "source": [
    "driver = webdriver.Chrome(executable_path='chromedriver.exe')"
   ]
  },
  {
   "cell_type": "code",
   "execution_count": 3,
   "metadata": {},
   "outputs": [],
   "source": [
    "url = 'https://muckrack.com/media-outlet/timesofindia'"
   ]
  },
  {
   "cell_type": "code",
   "execution_count": 4,
   "metadata": {},
   "outputs": [],
   "source": [
    "driver.get(url)\n",
    "\n",
    "# print(driver.page_source)"
   ]
  },
  {
   "cell_type": "code",
   "execution_count": 5,
   "metadata": {},
   "outputs": [],
   "source": [
    "soup = BeautifulSoup(driver.page_source, 'lxml')\n",
    "\n",
    "div = soup.find('div', class_ ='row bottom-sm')\n",
    "\n",
    "#print(div)\n",
    "\n",
    "\n",
    "\n",
    "\n",
    "#driver.quit() "
   ]
  },
  {
   "cell_type": "code",
   "execution_count": 6,
   "metadata": {},
   "outputs": [],
   "source": [
    "nm=[]\n",
    "link=[]\n",
    "for a in div.find_all('a'):\n",
    "    nm.append(a.text)\n",
    "    link.append('https://muckrack.com'+a['href'])"
   ]
  },
  {
   "cell_type": "code",
   "execution_count": 7,
   "metadata": {},
   "outputs": [
    {
     "data": {
      "text/html": [
       "<div>\n",
       "<style scoped>\n",
       "    .dataframe tbody tr th:only-of-type {\n",
       "        vertical-align: middle;\n",
       "    }\n",
       "\n",
       "    .dataframe tbody tr th {\n",
       "        vertical-align: top;\n",
       "    }\n",
       "\n",
       "    .dataframe thead th {\n",
       "        text-align: right;\n",
       "    }\n",
       "</style>\n",
       "<table border=\"1\" class=\"dataframe\">\n",
       "  <thead>\n",
       "    <tr style=\"text-align: right;\">\n",
       "      <th></th>\n",
       "      <th>s_no</th>\n",
       "      <th>name</th>\n",
       "      <th>link</th>\n",
       "    </tr>\n",
       "  </thead>\n",
       "  <tbody>\n",
       "    <tr>\n",
       "      <td>0</td>\n",
       "      <td>1</td>\n",
       "      <td>Agnihotri, Amruta</td>\n",
       "      <td>https://muckrack.com/amruta-agnihotri</td>\n",
       "    </tr>\n",
       "    <tr>\n",
       "      <td>1</td>\n",
       "      <td>2</td>\n",
       "      <td>Akbar, Syed</td>\n",
       "      <td>https://muckrack.com/syed-akbar</td>\n",
       "    </tr>\n",
       "    <tr>\n",
       "      <td>2</td>\n",
       "      <td>3</td>\n",
       "      <td>Ali, Ahmed</td>\n",
       "      <td>https://muckrack.com/ahmed-ali</td>\n",
       "    </tr>\n",
       "    <tr>\n",
       "      <td>3</td>\n",
       "      <td>4</td>\n",
       "      <td>Ali, Amin</td>\n",
       "      <td>https://muckrack.com/aminali83</td>\n",
       "    </tr>\n",
       "    <tr>\n",
       "      <td>4</td>\n",
       "      <td>5</td>\n",
       "      <td>Anparthi, Anjaya</td>\n",
       "      <td>https://muckrack.com/anjaya-anparthi</td>\n",
       "    </tr>\n",
       "    <tr>\n",
       "      <td>...</td>\n",
       "      <td>...</td>\n",
       "      <td>...</td>\n",
       "      <td>...</td>\n",
       "    </tr>\n",
       "    <tr>\n",
       "      <td>95</td>\n",
       "      <td>96</td>\n",
       "      <td>Majeed, Shariq</td>\n",
       "      <td>https://muckrack.com/shariq-majeed</td>\n",
       "    </tr>\n",
       "    <tr>\n",
       "      <td>96</td>\n",
       "      <td>97</td>\n",
       "      <td>Mariappan, Julie</td>\n",
       "      <td>https://muckrack.com/julie-mariappan</td>\n",
       "    </tr>\n",
       "    <tr>\n",
       "      <td>97</td>\n",
       "      <td>98</td>\n",
       "      <td>Mehta, Kamini</td>\n",
       "      <td>https://muckrack.com/kamini-mehta</td>\n",
       "    </tr>\n",
       "    <tr>\n",
       "      <td>98</td>\n",
       "      <td>99</td>\n",
       "      <td>Mehta, Yagnesh</td>\n",
       "      <td>https://muckrack.com/yagnesh-mehta</td>\n",
       "    </tr>\n",
       "    <tr>\n",
       "      <td>99</td>\n",
       "      <td>100</td>\n",
       "      <td>Mendonsa, Kevin</td>\n",
       "      <td>https://muckrack.com/kevin-mendonsa</td>\n",
       "    </tr>\n",
       "  </tbody>\n",
       "</table>\n",
       "<p>100 rows × 3 columns</p>\n",
       "</div>"
      ],
      "text/plain": [
       "    s_no               name                                   link\n",
       "0      1  Agnihotri, Amruta  https://muckrack.com/amruta-agnihotri\n",
       "1      2        Akbar, Syed        https://muckrack.com/syed-akbar\n",
       "2      3         Ali, Ahmed         https://muckrack.com/ahmed-ali\n",
       "3      4          Ali, Amin         https://muckrack.com/aminali83\n",
       "4      5   Anparthi, Anjaya   https://muckrack.com/anjaya-anparthi\n",
       "..   ...                ...                                    ...\n",
       "95    96     Majeed, Shariq     https://muckrack.com/shariq-majeed\n",
       "96    97   Mariappan, Julie   https://muckrack.com/julie-mariappan\n",
       "97    98      Mehta, Kamini      https://muckrack.com/kamini-mehta\n",
       "98    99     Mehta, Yagnesh     https://muckrack.com/yagnesh-mehta\n",
       "99   100    Mendonsa, Kevin    https://muckrack.com/kevin-mendonsa\n",
       "\n",
       "[100 rows x 3 columns]"
      ]
     },
     "execution_count": 7,
     "metadata": {},
     "output_type": "execute_result"
    }
   ],
   "source": [
    "dict1={'s_no':[i for i in range(len(nm))],\n",
    "      'name':nm,'link':link}\n",
    "df=pd.DataFrame(dict1)\n",
    "df['s_no']=df['s_no']+1\n",
    "df"
   ]
  },
  {
   "cell_type": "code",
   "execution_count": null,
   "metadata": {},
   "outputs": [
    {
     "name": "stderr",
     "output_type": "stream",
     "text": [
      " 81%|████████  | 81/100 [02:38<00:36,  1.90s/it]"
     ]
    }
   ],
   "source": [
    "ps=[]\n",
    "as_sn=[]\n",
    "for i in tqdm(df['link'].values):\n",
    "    driver.get(i)\n",
    "    soup = BeautifulSoup(driver.page_source, 'lxml')\n",
    "    s=soup.find('div',class_='person-details-item person-details-title').text.strip()\n",
    "    as_sn1=[]\n",
    "    for j in soup.find('div',class_='profile-details-item').find_all('a'):\n",
    "        as_sn1.append(j.text)\n",
    "    ps.append(s.replace('\\n                                ','').split('—')[0])\n",
    "    as_sn.append(tuple(as_sn1))"
   ]
  },
  {
   "cell_type": "code",
   "execution_count": null,
   "metadata": {},
   "outputs": [],
   "source": [
    "(len(ps),len(as_sn),len(df))"
   ]
  },
  {
   "cell_type": "code",
   "execution_count": null,
   "metadata": {},
   "outputs": [],
   "source": [
    "df['role']=ps\n",
    "df['as_seen_in']=as_sn"
   ]
  },
  {
   "cell_type": "code",
   "execution_count": null,
   "metadata": {},
   "outputs": [],
   "source": [
    "df"
   ]
  },
  {
   "cell_type": "code",
   "execution_count": null,
   "metadata": {},
   "outputs": [],
   "source": [
    "writer = pd.ExcelWriter('MR.xlsx', engine='xlsxwriter')\n",
    "df.to_excel(writer, sheet_name='Sheet1',index=False)\n",
    "writer.save()"
   ]
  },
  {
   "cell_type": "code",
   "execution_count": null,
   "metadata": {},
   "outputs": [],
   "source": [
    "driver.get(df.iloc[25]['link'])\n",
    "soup = BeautifulSoup(driver.page_source, 'lxml')\n",
    "\n",
    "#fa fa-fw fa-building-o icon-standard \n",
    "#As seen in:\n",
    "# print(soup.prettify())"
   ]
  },
  {
   "cell_type": "code",
   "execution_count": null,
   "metadata": {},
   "outputs": [],
   "source": [
    "as_sn1=[]\n",
    "for j in soup.find('div',class_='profile-details-item').find_all('a'):\n",
    "    as_sn1.append(j.text)\n",
    "as_sn1"
   ]
  },
  {
   "cell_type": "code",
   "execution_count": null,
   "metadata": {},
   "outputs": [],
   "source": [
    "\n",
    "#asseenin = '\n",
    "\n",
    "#asseenin_span = soup.find('span', string = 'As seen in:')\n",
    "\n",
    "#for span in asseenin_span.findNextSiblings():\n",
    " #   asseenin = asseenin + span.text\n",
    "\n",
    "#print(asseenin)\""
   ]
  },
  {
   "cell_type": "code",
   "execution_count": null,
   "metadata": {},
   "outputs": [],
   "source": []
  },
  {
   "cell_type": "code",
   "execution_count": null,
   "metadata": {},
   "outputs": [],
   "source": []
  },
  {
   "cell_type": "code",
   "execution_count": null,
   "metadata": {},
   "outputs": [],
   "source": []
  }
 ],
 "metadata": {
  "kernelspec": {
   "display_name": "Python 3",
   "language": "python",
   "name": "python3"
  },
  "language_info": {
   "codemirror_mode": {
    "name": "ipython",
    "version": 3
   },
   "file_extension": ".py",
   "mimetype": "text/x-python",
   "name": "python",
   "nbconvert_exporter": "python",
   "pygments_lexer": "ipython3",
   "version": "3.7.4"
  }
 },
 "nbformat": 4,
 "nbformat_minor": 4
}
